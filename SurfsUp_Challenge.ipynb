{
 "cells": [
  {
   "cell_type": "code",
   "execution_count": 16,
   "metadata": {},
   "outputs": [],
   "source": [
    "# Dependencies\n",
    "import numpy as np\n",
    "import pandas as pd\n",
    "# Python SQL toolkit and Object Relational Mapper\n",
    "import sqlalchemy\n",
    "from sqlalchemy.ext.automap import automap_base\n",
    "from sqlalchemy.orm import Session\n",
    "from sqlalchemy import create_engine, func\n",
    "\n",
    "\n",
    "\n",
    "%matplotlib inline\n",
    "from matplotlib import style\n",
    "style.use('fivethirtyeight')\n",
    "import matplotlib.pyplot as plt"
   ]
  },
  {
   "cell_type": "code",
   "execution_count": 3,
   "metadata": {},
   "outputs": [],
   "source": [
    "engine = create_engine(\"sqlite:///hawaii.sqlite\")\n",
    "\n",
    "# reflect an existing database into a new model\n",
    "Base = automap_base()\n",
    "# reflect the tables\n",
    "Base.prepare(engine, reflect=True)\n",
    "\n",
    "# Save references to each table\n",
    "Measurement = Base.classes.measurement\n",
    "Station = Base.classes.station"
   ]
  },
  {
   "cell_type": "code",
   "execution_count": 4,
   "metadata": {},
   "outputs": [],
   "source": [
    "# Create our session (link) from Python to the DB\n",
    "session = Session(engine)"
   ]
  },
  {
   "cell_type": "markdown",
   "metadata": {},
   "source": [
    "## D1: Determine the Summary Statistics for June"
   ]
  },
  {
   "cell_type": "code",
   "execution_count": 5,
   "metadata": {},
   "outputs": [
    {
     "name": "stdout",
     "output_type": "stream",
     "text": [
      "SELECT measurement.id AS measurement_id, measurement.station AS measurement_station, measurement.date AS measurement_date, measurement.prcp AS measurement_prcp, measurement.tobs AS measurement_tobs \n",
      "FROM measurement \n",
      "WHERE CAST(STRFTIME('%m', measurement.date) AS INTEGER) = ?\n"
     ]
    }
   ],
   "source": [
    "# 1. Import the sqlalchemy extract function.\n",
    "from sqlalchemy import extract\n",
    "\n",
    "# 2. Write a query that filters the Measurement table to retrieve the temperatures for the month of June. \n",
    "june_temps = []\n",
    "june_temps = session.query(Measurement).\\\n",
    "    filter(func.extract('month', Measurement.date) == 6)\n",
    "print(june_temps)"
   ]
  },
  {
   "cell_type": "code",
   "execution_count": 6,
   "metadata": {},
   "outputs": [
    {
     "name": "stdout",
     "output_type": "stream",
     "text": [
      "[78.0, 76.0, 78.0, 76.0, 77.0, 78.0, 77.0, 78.0, 78.0, 79.0, 78.0, 78.0, 78.0, 77.0, 78.0, 78.0, 77.0, 77.0, 82.0, 78.0, 78.0, 78.0, 78.0, 78.0, 77.0, 76.0, 78.0, 78.0, 78.0, 78.0, 77.0, 78.0, 73.0, 70.0, 76.0, 77.0, 77.0, 77.0, 77.0, 78.0, 77.0, 77.0, 78.0, 78.0, 77.0, 78.0, 78.0, 75.0, 76.0, 76.0, 77.0, 78.0, 76.0, 77.0, 75.0, 77.0, 76.0, 76.0, 75.0, 77.0, 77.0, 76.0, 78.0, 77.0, 76.0, 77.0, 76.0, 76.0, 77.0, 77.0, 78.0, 77.0, 77.0, 77.0, 76.0, 75.0, 76.0, 76.0, 77.0, 76.0, 73.0, 73.0, 75.0, 77.0, 76.0, 77.0, 79.0, 78.0, 79.0, 78.0, 78.0, 79.0, 77.0, 77.0, 77.0, 77.0, 77.0, 78.0, 77.0, 76.0, 78.0, 78.0, 77.0, 78.0, 78.0, 73.0, 76.0, 77.0, 75.0, 76.0, 74.0, 75.0, 77.0, 76.0, 77.0, 78.0, 79.0, 77.0, 78.0, 79.0, 78.0, 78.0, 78.0, 78.0, 79.0, 79.0, 82.0, 80.0, 79.0, 79.0, 78.0, 78.0, 77.0, 78.0, 78.0, 73.0, 75.0, 75.0, 76.0, 84.0, 79.0, 76.0, 79.0, 79.0, 77.0, 79.0, 78.0, 78.0, 79.0, 77.0, 79.0, 78.0, 78.0, 78.0, 79.0, 77.0, 78.0, 78.0, 78.0, 78.0, 79.0, 79.0, 77.0, 78.0, 78.0, 78.0, 79.0, 79.0, 77.0, 79.0, 79.0, 79.0, 81.0, 76.0, 80.0, 78.0, 76.0, 71.0, 71.0, 74.0, 76.0, 78.0, 77.0, 77.0, 73.0, 77.0, 78.0, 78.0, 80.0, 79.0, 78.0, 77.0, 76.0, 77.0, 77.0, 78.0, 80.0, 79.0, 79.0, 77.0, 78.0, 79.0, 80.0, 76.0, 79.0, 80.0, 79.0, 79.0, 79.0, 79.0, 80.0, 79.0, 79.0, 80.0, 80.0, 77.0, 79.0, 83.0, 80.0, 80.0, 78.0, 79.0, 80.0, 77.0, 80.0, 78.0, 79.0, 80.0, 78.0, 80.0, 80.0, 81.0, 80.0, 79.0, 79.0, 75.0, 74.0, 76.0, 75.0, 75.0, 74.0, 75.0, 75.0, 75.0, 75.0, 75.0, 83.0, 75.0, 76.0, 73.0, 74.0, 74.0, 75.0, 70.0, 74.0, 75.0, 75.0, 75.0, 75.0, 75.0, 74.0, 72.0, 76.0, 73.0, 75.0, 76.0, 74.0, 75.0, 71.0, 69.0, 69.0, 74.0, 71.0, 74.0, 74.0, 75.0, 73.0, 73.0, 73.0, 75.0, 75.0, 74.0, 74.0, 75.0, 74.0, 73.0, 72.0, 74.0, 72.0, 75.0, 76.0, 74.0, 74.0, 74.0, 74.0, 74.0, 71.0, 71.0, 75.0, 72.0, 72.0, 73.0, 73.0, 73.0, 74.0, 73.0, 72.0, 72.0, 70.0, 72.0, 72.0, 72.0, 74.0, 73.0, 73.0, 70.0, 73.0, 72.0, 73.0, 69.0, 72.0, 71.0, 71.0, 73.0, 73.0, 72.0, 75.0, 75.0, 75.0, 75.0, 74.0, 74.0, 74.0, 75.0, 75.0, 74.0, 75.0, 75.0, 74.0, 72.0, 74.0, 74.0, 74.0, 74.0, 74.0, 72.0, 70.0, 75.0, 74.0, 71.0, 71.0, 70.0, 73.0, 71.0, 71.0, 77.0, 77.0, 74.0, 73.0, 75.0, 75.0, 74.0, 74.0, 75.0, 75.0, 72.0, 74.0, 76.0, 76.0, 75.0, 75.0, 74.0, 72.0, 74.0, 75.0, 70.0, 71.0, 72.0, 71.0, 73.0, 74.0, 72.0, 74.0, 76.0, 72.0, 75.0, 75.0, 72.0, 70.0, 76.0, 78.0, 72.0, 74.0, 74.0, 72.0, 71.0, 79.0, 79.0, 76.0, 75.0, 72.0, 74.0, 76.0, 76.0, 77.0, 75.0, 76.0, 75.0, 75.0, 76.0, 76.0, 74.0, 70.0, 69.0, 70.0, 68.0, 70.0, 74.0, 75.0, 74.0, 71.0, 73.0, 75.0, 74.0, 76.0, 76.0, 76.0, 76.0, 75.0, 75.0, 75.0, 74.0, 73.0, 76.0, 74.0, 78.0, 71.0, 75.0, 75.0, 74.0, 77.0, 77.0, 76.0, 76.0, 76.0, 78.0, 76.0, 75.0, 75.0, 76.0, 78.0, 75.0, 73.0, 76.0, 76.0, 76.0, 77.0, 76.0, 77.0, 72.0, 77.0, 75.0, 82.0, 77.0, 76.0, 74.0, 73.0, 77.0, 77.0, 77.0, 76.0, 74.0, 73.0, 72.0, 74.0, 73.0, 72.0, 75.0, 74.0, 75.0, 73.0, 75.0, 76.0, 74.0, 74.0, 73.0, 73.0, 76.0, 75.0, 70.0, 75.0, 73.0, 74.0, 74.0, 74.0, 74.0, 70.0, 75.0, 74.0, 73.0, 74.0, 72.0, 73.0, 67.0, 69.0, 76.0, 73.0, 70.0, 72.0, 74.0, 72.0, 72.0, 75.0, 73.0, 73.0, 72.0, 74.0, 76.0, 72.0, 74.0, 70.0, 74.0, 74.0, 74.0, 71.0, 75.0, 75.0, 76.0, 77.0, 75.0, 74.0, 75.0, 76.0, 78.0, 78.0, 76.0, 78.0, 76.0, 76.0, 78.0, 79.0, 77.0, 76.0, 77.0, 77.0, 76.0, 78.0, 76.0, 76.0, 77.0, 71.0, 74.0, 72.0, 77.0, 77.0, 78.0, 77.0, 77.0, 76.0, 75.0, 79.0, 75.0, 73.0, 76.0, 78.0, 77.0, 78.0, 76.0, 75.0, 76.0, 77.0, 74.0, 78.0, 77.0, 77.0, 74.0, 74.0, 78.0, 79.0, 79.0, 78.0, 75.0, 76.0, 78.0, 78.0, 74.0, 78.0, 77.0, 76.0, 78.0, 78.0, 78.0, 78.0, 74.0, 79.0, 77.0, 73.0, 79.0, 79.0, 78.0, 77.0, 78.0, 78.0, 80.0, 80.0, 79.0, 74.0, 71.0, 74.0, 75.0, 75.0, 74.0, 76.0, 75.0, 77.0, 77.0, 79.0, 79.0, 78.0, 79.0, 73.0, 78.0, 79.0, 80.0, 76.0, 79.0, 79.0, 77.0, 80.0, 79.0, 78.0, 78.0, 79.0, 78.0, 81.0, 78.0, 80.0, 79.0, 81.0, 80.0, 81.0, 79.0, 81.0, 78.0, 79.0, 79.0, 75.0, 79.0, 78.0, 80.0, 78.0, 77.0, 78.0, 79.0, 76.0, 80.0, 76.0, 81.0, 77.0, 76.0, 77.0, 75.0, 76.0, 79.0, 79.0, 77.0, 76.0, 77.0, 76.0, 73.0, 76.0, 77.0, 77.0, 78.0, 77.0, 76.0, 78.0, 78.0, 75.0, 77.0, 65.0, 76.0, 74.0, 76.0, 76.0, 77.0, 77.0, 76.0, 77.0, 76.0, 77.0, 74.0, 76.0, 73.0, 75.0, 76.0, 75.0, 76.0, 75.0, 74.0, 74.0, 74.0, 74.0, 76.0, 76.0, 77.0, 77.0, 78.0, 73.0, 75.0, 72.0, 76.0, 76.0, 73.0, 74.0, 72.0, 76.0, 76.0, 76.0, 78.0, 78.0, 78.0, 78.0, 75.0, 77.0, 73.0, 78.0, 75.0, 73.0, 77.0, 80.0, 70.0, 78.0, 72.0, 78.0, 72.0, 78.0, 77.0, 79.0, 77.0, 78.0, 74.0, 79.0, 79.0, 79.0, 79.0, 77.0, 79.0, 78.0, 80.0, 81.0, 81.0, 78.0, 77.0, 78.0, 79.0, 77.0, 79.0, 80.0, 79.0, 78.0, 79.0, 79.0, 79.0, 81.0, 64.0, 65.0, 75.0, 76.0, 78.0, 77.0, 75.0, 78.0, 81.0, 78.0, 76.0, 73.0, 74.0, 76.0, 78.0, 79.0, 78.0, 72.0, 78.0, 80.0, 81.0, 79.0, 78.0, 80.0, 80.0, 78.0, 80.0, 81.0, 78.0, 77.0, 78.0, 78.0, 77.0, 76.0, 81.0, 76.0, 82.0, 80.0, 80.0, 79.0, 74.0, 69.0, 70.0, 67.0, 70.0, 73.0, 73.0, 72.0, 72.0, 77.0, 70.0, 78.0, 73.0, 75.0, 70.0, 74.0, 77.0, 69.0, 73.0, 73.0, 74.0, 73.0, 72.0, 75.0, 73.0, 76.0, 74.0, 76.0, 73.0, 76.0, 76.0, 78.0, 75.0, 77.0, 75.0, 73.0, 76.0, 71.0, 71.0, 76.0, 76.0, 76.0, 73.0, 78.0, 77.0, 77.0, 77.0, 78.0, 78.0, 76.0, 76.0, 79.0, 74.0, 75.0, 76.0, 75.0, 73.0, 76.0, 78.0, 76.0, 79.0, 77.0, 76.0, 74.0, 75.0, 76.0, 76.0, 76.0, 79.0, 76.0, 72.0, 71.0, 72.0, 76.0, 74.0, 75.0, 76.0, 77.0, 76.0, 75.0, 76.0, 76.0, 76.0, 75.0, 76.0, 76.0, 79.0, 74.0, 73.0, 75.0, 74.0, 75.0, 76.0, 72.0, 74.0, 74.0, 75.0, 75.0, 74.0, 75.0, 77.0, 75.0, 74.0, 75.0, 74.0, 75.0, 73.0, 75.0, 76.0, 76.0, 76.0, 79.0, 74.0, 78.0, 80.0, 75.0, 72.0, 72.0, 74.0, 78.0, 76.0, 77.0, 72.0, 72.0, 73.0, 75.0, 79.0, 81.0, 76.0, 76.0, 77.0, 78.0, 79.0, 79.0, 75.0, 79.0, 79.0, 75.0, 77.0, 81.0, 76.0, 75.0, 78.0, 81.0, 76.0, 76.0, 76.0, 72.0, 73.0, 74.0, 74.0, 75.0, 73.0, 73.0, 76.0, 73.0, 79.0, 78.0, 76.0, 76.0, 76.0, 77.0, 79.0, 80.0, 78.0, 76.0, 78.0, 78.0, 77.0, 79.0, 79.0, 75.0, 76.0, 77.0, 74.0, 77.0, 76.0, 76.0, 75.0, 74.0, 79.0, 76.0, 74.0, 76.0, 77.0, 78.0, 77.0, 75.0, 75.0, 80.0, 77.0, 77.0, 77.0, 80.0, 76.0, 78.0, 77.0, 79.0, 79.0, 77.0, 75.0, 76.0, 78.0, 78.0, 80.0, 78.0, 79.0, 79.0, 77.0, 77.0, 81.0, 75.0, 72.0, 75.0, 75.0, 75.0, 75.0, 73.0, 78.0, 77.0, 80.0, 72.0, 78.0, 78.0, 77.0, 78.0, 79.0, 80.0, 76.0, 77.0, 79.0, 79.0, 77.0, 79.0, 80.0, 80.0, 77.0, 79.0, 81.0, 78.0, 80.0, 79.0, 79.0, 81.0, 79.0, 81.0, 78.0, 78.0, 78.0, 77.0, 78.0, 75.0, 81.0, 80.0, 77.0, 80.0, 78.0, 80.0, 77.0, 78.0, 78.0, 80.0, 80.0, 79.0, 82.0, 80.0, 81.0, 81.0, 79.0, 78.0, 75.0, 71.0, 71.0, 72.0, 72.0, 76.0, 77.0, 71.0, 73.0, 73.0, 75.0, 81.0, 74.0, 77.0, 70.0, 69.0, 70.0, 72.0, 71.0, 77.0, 76.0, 74.0, 74.0, 74.0, 74.0, 71.0, 80.0, 77.0, 72.0, 72.0, 73.0, 72.0, 73.0, 73.0, 77.0, 76.0, 79.0, 78.0, 82.0, 79.0, 76.0, 74.0, 74.0, 73.0, 79.0, 77.0, 73.0, 72.0, 72.0, 73.0, 74.0, 77.0, 73.0, 73.0, 72.0, 72.0, 67.0, 71.0, 73.0, 78.0, 71.0, 72.0, 70.0, 72.0, 73.0, 74.0, 81.0, 72.0, 77.0, 69.0, 69.0, 69.0, 78.0, 78.0, 73.0, 72.0, 71.0, 72.0, 72.0, 73.0, 71.0, 70.0, 71.0, 68.0, 72.0, 71.0, 78.0, 81.0, 74.0, 74.0, 73.0, 73.0, 72.0, 73.0, 77.0, 73.0, 73.0, 75.0, 72.0, 72.0, 73.0, 73.0, 75.0, 72.0, 73.0, 70.0, 69.0, 68.0, 75.0, 74.0, 73.0, 70.0, 70.0, 71.0, 70.0, 70.0, 75.0, 74.0, 72.0, 74.0, 73.0, 73.0, 70.0, 73.0, 75.0, 73.0, 69.0, 80.0, 73.0, 72.0, 80.0, 80.0, 69.0, 70.0, 69.0, 72.0, 68.0, 74.0, 75.0, 70.0, 70.0, 72.0, 71.0, 70.0, 77.0, 73.0, 71.0, 76.0, 68.0, 71.0, 70.0, 68.0, 79.0, 75.0, 71.0, 69.0, 71.0, 72.0, 69.0, 72.0, 75.0, 71.0, 72.0, 70.0, 71.0, 72.0, 75.0, 75.0, 71.0, 73.0, 71.0, 71.0, 74.0, 74.0, 78.0, 72.0, 69.0, 69.0, 67.0, 68.0, 65.0, 70.0, 72.0, 74.0, 73.0, 71.0, 75.0, 72.0, 75.0, 76.0, 75.0, 76.0, 75.0, 71.0, 75.0, 75.0, 72.0, 72.0, 75.0, 73.0, 76.0, 74.0, 77.0, 72.0, 71.0, 76.0, 77.0, 80.0, 76.0, 76.0, 77.0, 75.0, 75.0, 75.0, 75.0, 72.0, 74.0, 74.0, 74.0, 76.0, 74.0, 75.0, 73.0, 79.0, 75.0, 72.0, 72.0, 74.0, 72.0, 72.0, 77.0, 71.0, 73.0, 76.0, 77.0, 76.0, 76.0, 74.0, 76.0, 78.0, 74.0, 79.0, 79.0, 69.0, 77.0, 80.0, 75.0, 75.0, 78.0, 71.0, 76.0, 74.0, 78.0, 72.0, 78.0, 85.0, 77.0, 76.0, 76.0, 75.0, 71.0, 70.0, 80.0, 77.0, 70.0, 73.0, 73.0, 76.0, 70.0, 71.0, 80.0, 70.0, 68.0, 74.0, 75.0, 75.0, 78.0, 76.0, 69.0, 73.0, 76.0, 72.0, 72.0, 80.0, 76.0, 71.0, 68.0, 71.0, 72.0, 75.0, 80.0, 75.0, 74.0, 74.0, 69.0, 70.0, 73.0, 76.0, 76.0, 74.0, 71.0, 72.0, 73.0, 77.0, 77.0, 77.0, 79.0, 77.0, 77.0, 78.0, 78.0, 81.0, 76.0, 74.0, 71.0, 78.0, 71.0, 76.0, 81.0, 73.0, 72.0, 72.0, 74.0, 72.0, 79.0, 80.0, 81.0, 75.0, 80.0, 73.0, 74.0, 73.0, 81.0, 79.0, 78.0, 74.0, 74.0, 73.0, 73.0, 77.0, 77.0, 74.0, 73.0, 70.0, 69.0, 72.0, 79.0, 77.0, 70.0, 71.0, 67.0, 66.0, 78.0, 80.0, 80.0, 79.0, 68.0, 67.0, 71.0, 72.0, 79.0, 80.0, 72.0, 68.0, 84.0, 82.0, 79.0, 78.0, 81.0, 77.0, 71.0, 69.0, 73.0, 68.0, 75.0, 79.0, 70.0, 70.0, 73.0, 71.0, 68.0, 78.0, 69.0, 70.0, 67.0, 68.0, 68.0, 71.0, 74.0, 69.0, 69.0, 66.0, 67.0, 69.0, 72.0, 72.0, 72.0, 70.0, 75.0, 73.0, 70.0, 71.0, 70.0, 78.0, 73.0, 68.0, 79.0, 74.0, 75.0, 71.0, 75.0, 76.0, 73.0, 73.0, 74.0, 72.0, 72.0, 72.0, 70.0, 69.0, 73.0, 71.0, 73.0, 72.0, 69.0, 72.0, 66.0, 67.0, 71.0, 71.0, 72.0, 72.0, 71.0, 71.0, 71.0, 69.0, 68.0, 71.0, 73.0, 72.0, 74.0, 70.0, 72.0, 71.0, 71.0, 70.0, 70.0, 69.0, 74.0, 69.0, 72.0, 70.0, 72.0, 72.0, 69.0, 73.0, 71.0, 72.0, 71.0, 72.0, 71.0, 74.0, 74.0, 75.0, 69.0, 75.0, 70.0, 73.0, 72.0, 70.0, 73.0, 71.0, 70.0, 69.0, 71.0, 68.0, 68.0, 68.0, 69.0, 69.0, 69.0, 71.0, 78.0, 72.0, 73.0, 71.0, 72.0, 72.0, 71.0, 74.0, 71.0, 72.0, 72.0, 74.0, 72.0, 69.0, 70.0, 76.0, 70.0, 71.0, 73.0, 68.0, 68.0, 69.0, 70.0, 69.0, 69.0, 70.0, 71.0, 70.0, 67.0, 72.0, 72.0, 75.0, 73.0, 73.0, 72.0, 71.0, 77.0, 73.0, 70.0, 70.0, 76.0, 72.0, 73.0, 77.0, 73.0, 70.0, 68.0, 69.0, 70.0, 70.0, 73.0, 70.0, 69.0, 71.0, 70.0, 70.0, 72.0, 71.0, 70.0, 69.0, 72.0, 72.0, 71.0, 76.0, 71.0, 72.0, 70.0, 72.0, 72.0, 71.0, 72.0, 69.0, 70.0, 73.0, 70.0, 72.0, 72.0, 71.0, 73.0, 72.0, 73.0, 72.0, 71.0, 70.0, 75.0, 72.0, 70.0, 72.0, 70.0, 71.0, 70.0, 73.0, 72.0, 71.0, 71.0, 69.0, 70.0, 73.0, 75.0, 73.0, 72.0, 70.0, 70.0, 69.0, 73.0, 74.0, 72.0, 71.0, 73.0, 72.0, 73.0, 74.0, 72.0, 74.0, 72.0, 74.0, 74.0, 77.0, 74.0, 74.0, 79.0, 75.0, 72.0, 76.0, 74.0, 73.0, 74.0, 77.0, 74.0, 72.0, 77.0, 76.0, 74.0, 75.0, 76.0, 71.0, 73.0, 79.0, 79.0, 74.0, 74.0, 76.0, 75.0]\n"
     ]
    }
   ],
   "source": [
    "#  3. Convert the June temperatures to a list.\n",
    "june_temps_list = [temp.tobs for temp in june_temps]\n",
    "print(june_temps_list)"
   ]
  },
  {
   "cell_type": "code",
   "execution_count": 7,
   "metadata": {},
   "outputs": [],
   "source": [
    "# 4. Create a DataFrame from the list of temperatures for the month of June. \n",
    "\n",
    "june_temps_df = pd.DataFrame(june_temps_list, columns=['temps'])"
   ]
  },
  {
   "cell_type": "code",
   "execution_count": 8,
   "metadata": {},
   "outputs": [
    {
     "data": {
      "text/html": [
       "<div>\n",
       "<style scoped>\n",
       "    .dataframe tbody tr th:only-of-type {\n",
       "        vertical-align: middle;\n",
       "    }\n",
       "\n",
       "    .dataframe tbody tr th {\n",
       "        vertical-align: top;\n",
       "    }\n",
       "\n",
       "    .dataframe thead th {\n",
       "        text-align: right;\n",
       "    }\n",
       "</style>\n",
       "<table border=\"1\" class=\"dataframe\">\n",
       "  <thead>\n",
       "    <tr style=\"text-align: right;\">\n",
       "      <th></th>\n",
       "      <th>temps</th>\n",
       "    </tr>\n",
       "  </thead>\n",
       "  <tbody>\n",
       "    <tr>\n",
       "      <th>count</th>\n",
       "      <td>1700.000000</td>\n",
       "    </tr>\n",
       "    <tr>\n",
       "      <th>mean</th>\n",
       "      <td>74.944118</td>\n",
       "    </tr>\n",
       "    <tr>\n",
       "      <th>std</th>\n",
       "      <td>3.257417</td>\n",
       "    </tr>\n",
       "    <tr>\n",
       "      <th>min</th>\n",
       "      <td>64.000000</td>\n",
       "    </tr>\n",
       "    <tr>\n",
       "      <th>25%</th>\n",
       "      <td>73.000000</td>\n",
       "    </tr>\n",
       "    <tr>\n",
       "      <th>50%</th>\n",
       "      <td>75.000000</td>\n",
       "    </tr>\n",
       "    <tr>\n",
       "      <th>75%</th>\n",
       "      <td>77.000000</td>\n",
       "    </tr>\n",
       "    <tr>\n",
       "      <th>max</th>\n",
       "      <td>85.000000</td>\n",
       "    </tr>\n",
       "  </tbody>\n",
       "</table>\n",
       "</div>"
      ],
      "text/plain": [
       "             temps\n",
       "count  1700.000000\n",
       "mean     74.944118\n",
       "std       3.257417\n",
       "min      64.000000\n",
       "25%      73.000000\n",
       "50%      75.000000\n",
       "75%      77.000000\n",
       "max      85.000000"
      ]
     },
     "execution_count": 8,
     "metadata": {},
     "output_type": "execute_result"
    }
   ],
   "source": [
    "# 5. Calculate and print out the summary statistics for the June temperature DataFrame.\n",
    "june_temps_df.describe()"
   ]
  },
  {
   "cell_type": "code",
   "execution_count": 18,
   "metadata": {},
   "outputs": [
    {
     "data": {
      "image/png": "[encoded data removed]",
      "text/plain": [
       "<Figure size 432x288 with 1 Axes>"
      ]
     },
     "metadata": {},
     "output_type": "display_data"
    }
   ],
   "source": [
    "june_temps_df.plot.hist()\n",
    "plt.title(\"Frequency of June Temps\")\n",
    "plt.xlabel(\"Temperature\")\n",
    "plt.legend\n",
    "plt.savefig(\"Resources/June_Temp_Frequency.png\")"
   ]
  },
  {
   "cell_type": "markdown",
   "metadata": {},
   "source": [
    "## D2: Determine the Summary Statistics for December"
   ]
  },
  {
   "cell_type": "code",
   "execution_count": 10,
   "metadata": {},
   "outputs": [
    {
     "name": "stdout",
     "output_type": "stream",
     "text": [
      "SELECT measurement.id AS measurement_id, measurement.station AS measurement_station, measurement.date AS measurement_date, measurement.prcp AS measurement_prcp, measurement.tobs AS measurement_tobs \n",
      "FROM measurement \n",
      "WHERE CAST(STRFTIME('%m', measurement.date) AS INTEGER) = ?\n"
     ]
    }
   ],
   "source": [
    "# 6. Write a query that filters the Measurement table to retrieve the temperatures for the month of December.\n",
    "dec_temps = []\n",
    "dec_temps = session.query(Measurement).\\\n",
    "    filter(func.extract('month', Measurement.date) == 12)\n",
    "print(dec_temps)"
   ]
  },
  {
   "cell_type": "code",
   "execution_count": 20,
   "metadata": {},
   "outputs": [
    {
     "name": "stdout",
     "output_type": "stream",
     "text": [
      "[76.0, 74.0, 74.0, 64.0, 64.0, 67.0, 77.0, 66.0, 69.0, 68.0, 68.0, 71.0, 74.0, 67.0, 66.0, 69.0, 71.0, 70.0, 70.0, 74.0, 74.0, 71.0, 75.0, 75.0, 72.0, 69.0, 68.0, 73.0, 74.0, 73.0, 73.0, 73.0, 73.0, 71.0, 73.0, 73.0, 77.0, 72.0, 71.0, 73.0, 70.0, 73.0, 69.0, 74.0, 72.0, 71.0, 72.0, 72.0, 70.0, 73.0, 73.0, 72.0, 73.0, 73.0, 72.0, 63.0, 65.0, 71.0, 76.0, 70.0, 76.0, 69.0, 69.0, 69.0, 74.0, 76.0, 74.0, 73.0, 73.0, 74.0, 73.0, 73.0, 73.0, 74.0, 74.0, 71.0, 73.0, 72.0, 64.0, 66.0, 73.0, 72.0, 65.0, 64.0, 69.0, 68.0, 77.0, 71.0, 71.0, 69.0, 68.0, 68.0, 69.0, 70.0, 72.0, 76.0, 75.0, 69.0, 71.0, 71.0, 71.0, 68.0, 65.0, 70.0, 69.0, 69.0, 71.0, 67.0, 73.0, 74.0, 73.0, 67.0, 74.0, 75.0, 75.0, 74.0, 67.0, 73.0, 73.0, 71.0, 72.0, 71.0, 68.0, 65.0, 69.0, 70.0, 70.0, 74.0, 71.0, 74.0, 73.0, 72.0, 74.0, 72.0, 74.0, 75.0, 74.0, 70.0, 74.0, 70.0, 66.0, 61.0, 63.0, 63.0, 63.0, 63.0, 67.0, 56.0, 75.0, 77.0, 75.0, 75.0, 75.0, 75.0, 71.0, 70.0, 74.0, 74.0, 75.0, 72.0, 70.0, 66.0, 74.0, 75.0, 74.0, 75.0, 76.0, 74.0, 75.0, 74.0, 73.0, 68.0, 73.0, 74.0, 74.0, 77.0, 70.0, 70.0, 69.0, 75.0, 72.0, 69.0, 71.0, 68.0, 67.0, 69.0, 73.0, 70.0, 70.0, 70.0, 66.0, 67.0, 70.0, 66.0, 62.0, 71.0, 73.0, 69.0, 77.0, 74.0, 71.0, 72.0, 74.0, 74.0, 74.0, 74.0, 71.0, 73.0, 69.0, 66.0, 73.0, 72.0, 73.0, 74.0, 73.0, 66.0, 64.0, 66.0, 75.0, 65.0, 69.0, 71.0, 69.0, 78.0, 74.0, 68.0, 68.0, 70.0, 70.0, 71.0, 71.0, 71.0, 71.0, 69.0, 69.0, 72.0, 76.0, 72.0, 73.0, 73.0, 74.0, 69.0, 68.0, 74.0, 73.0, 73.0, 72.0, 71.0, 71.0, 68.0, 72.0, 71.0, 72.0, 71.0, 71.0, 72.0, 71.0, 71.0, 72.0, 72.0, 72.0, 69.0, 71.0, 71.0, 69.0, 74.0, 72.0, 71.0, 71.0, 72.0, 71.0, 67.0, 65.0, 70.0, 76.0, 68.0, 71.0, 71.0, 68.0, 70.0, 73.0, 73.0, 72.0, 71.0, 70.0, 72.0, 71.0, 72.0, 72.0, 71.0, 70.0, 71.0, 71.0, 71.0, 66.0, 65.0, 73.0, 72.0, 72.0, 65.0, 65.0, 68.0, 67.0, 76.0, 70.0, 71.0, 69.0, 67.0, 69.0, 71.0, 69.0, 72.0, 76.0, 75.0, 72.0, 75.0, 71.0, 69.0, 68.0, 68.0, 72.0, 70.0, 72.0, 75.0, 69.0, 72.0, 73.0, 73.0, 72.0, 73.0, 74.0, 73.0, 72.0, 68.0, 72.0, 71.0, 69.0, 67.0, 70.0, 72.0, 67.0, 67.0, 69.0, 67.0, 74.0, 70.0, 73.0, 71.0, 71.0, 71.0, 71.0, 72.0, 76.0, 78.0, 76.0, 73.0, 70.0, 68.0, 77.0, 66.0, 65.0, 69.0, 69.0, 66.0, 64.0, 74.0, 75.0, 80.0, 72.0, 73.0, 70.0, 69.0, 77.0, 74.0, 77.0, 72.0, 69.0, 69.0, 75.0, 75.0, 72.0, 73.0, 78.0, 75.0, 75.0, 74.0, 73.0, 70.0, 70.0, 72.0, 74.0, 74.0, 67.0, 74.0, 70.0, 73.0, 71.0, 71.0, 69.0, 68.0, 70.0, 71.0, 72.0, 70.0, 71.0, 72.0, 68.0, 68.0, 70.0, 70.0, 63.0, 71.0, 67.0, 69.0, 74.0, 72.0, 70.0, 69.0, 73.0, 74.0, 74.0, 73.0, 71.0, 72.0, 69.0, 71.0, 73.0, 73.0, 71.0, 72.0, 71.0, 64.0, 71.0, 62.0, 70.0, 64.0, 64.0, 70.0, 70.0, 69.0, 72.0, 68.0, 68.0, 65.0, 67.0, 68.0, 70.0, 67.0, 73.0, 70.0, 68.0, 72.0, 69.0, 71.0, 70.0, 75.0, 70.0, 68.0, 73.0, 71.0, 71.0, 70.0, 70.0, 70.0, 70.0, 72.0, 74.0, 71.0, 70.0, 70.0, 69.0, 71.0, 70.0, 70.0, 72.0, 72.0, 72.0, 72.0, 72.0, 70.0, 66.0, 71.0, 68.0, 79.0, 76.0, 73.0, 75.0, 71.0, 76.0, 74.0, 73.0, 73.0, 74.0, 73.0, 72.0, 76.0, 75.0, 77.0, 74.0, 76.0, 75.0, 76.0, 73.0, 75.0, 73.0, 73.0, 74.0, 78.0, 78.0, 78.0, 75.0, 75.0, 75.0, 74.0, 77.0, 72.0, 72.0, 73.0, 71.0, 75.0, 76.0, 74.0, 75.0, 74.0, 75.0, 73.0, 72.0, 72.0, 75.0, 74.0, 74.0, 72.0, 73.0, 70.0, 76.0, 78.0, 76.0, 78.0, 74.0, 71.0, 78.0, 70.0, 74.0, 74.0, 75.0, 76.0, 78.0, 72.0, 73.0, 76.0, 72.0, 72.0, 78.0, 76.0, 76.0, 77.0, 79.0, 73.0, 79.0, 77.0, 78.0, 76.0, 78.0, 77.0, 79.0, 75.0, 77.0, 76.0, 78.0, 78.0, 77.0, 78.0, 78.0, 76.0, 75.0, 72.0, 75.0, 77.0, 75.0, 77.0, 76.0, 76.0, 75.0, 72.0, 76.0, 75.0, 72.0, 72.0, 75.0, 69.0, 75.0, 74.0, 78.0, 77.0, 76.0, 72.0, 73.0, 74.0, 74.0, 74.0, 73.0, 73.0, 71.0, 72.0, 72.0, 75.0, 66.0, 66.0, 67.0, 76.0, 68.0, 69.0, 71.0, 70.0, 68.0, 66.0, 69.0, 69.0, 71.0, 72.0, 69.0, 72.0, 70.0, 76.0, 69.0, 71.0, 72.0, 71.0, 78.0, 73.0, 74.0, 68.0, 71.0, 76.0, 75.0, 74.0, 73.0, 73.0, 74.0, 69.0, 74.0, 72.0, 70.0, 67.0, 69.0, 73.0, 75.0, 74.0, 72.0, 71.0, 67.0, 74.0, 70.0, 70.0, 70.0, 71.0, 70.0, 71.0, 71.0, 68.0, 74.0, 75.0, 74.0, 77.0, 76.0, 77.0, 75.0, 76.0, 75.0, 77.0, 75.0, 77.0, 74.0, 78.0, 77.0, 76.0, 69.0, 70.0, 64.0, 75.0, 69.0, 65.0, 76.0, 81.0, 71.0, 71.0, 71.0, 82.0, 74.0, 75.0, 77.0, 74.0, 68.0, 72.0, 70.0, 68.0, 74.0, 71.0, 70.0, 70.0, 70.0, 68.0, 68.0, 68.0, 66.0, 71.0, 76.0, 73.0, 70.0, 68.0, 71.0, 71.0, 68.0, 71.0, 70.0, 73.0, 78.0, 76.0, 73.0, 74.0, 63.0, 72.0, 75.0, 74.0, 72.0, 68.0, 74.0, 73.0, 73.0, 72.0, 73.0, 72.0, 78.0, 74.0, 74.0, 78.0, 78.0, 61.0, 69.0, 65.0, 77.0, 67.0, 69.0, 75.0, 67.0, 71.0, 74.0, 66.0, 66.0, 77.0, 70.0, 73.0, 71.0, 71.0, 71.0, 67.0, 71.0, 74.0, 76.0, 72.0, 74.0, 75.0, 69.0, 69.0, 69.0, 75.0, 73.0, 73.0, 72.0, 72.0, 72.0, 74.0, 72.0, 73.0, 73.0, 73.0, 73.0, 74.0, 73.0, 71.0, 72.0, 73.0, 74.0, 72.0, 73.0, 73.0, 71.0, 73.0, 75.0, 71.0, 72.0, 73.0, 71.0, 65.0, 77.0, 72.0, 78.0, 71.0, 72.0, 71.0, 72.0, 76.0, 75.0, 75.0, 76.0, 73.0, 72.0, 74.0, 74.0, 74.0, 73.0, 77.0, 73.0, 70.0, 72.0, 76.0, 65.0, 74.0, 73.0, 77.0, 76.0, 69.0, 78.0, 76.0, 68.0, 76.0, 68.0, 79.0, 69.0, 64.0, 70.0, 69.0, 73.0, 70.0, 74.0, 76.0, 76.0, 69.0, 73.0, 73.0, 65.0, 70.0, 72.0, 72.0, 75.0, 74.0, 69.0, 73.0, 75.0, 76.0, 74.0, 73.0, 74.0, 71.0, 72.0, 73.0, 72.0, 72.0, 73.0, 72.0, 75.0, 76.0, 67.0, 69.0, 70.0, 75.0, 74.0, 71.0, 74.0, 71.0, 72.0, 74.0, 75.0, 73.0, 75.0, 76.0, 68.0, 71.0, 68.0, 66.0, 63.0, 62.0, 67.0, 68.0, 63.0, 56.0, 76.0, 75.0, 74.0, 76.0, 69.0, 71.0, 72.0, 74.0, 75.0, 72.0, 78.0, 69.0, 75.0, 75.0, 74.0, 74.0, 76.0, 73.0, 75.0, 75.0, 74.0, 79.0, 75.0, 76.0, 76.0, 69.0, 72.0, 76.0, 75.0, 75.0, 75.0, 70.0, 70.0, 74.0, 73.0, 72.0, 78.0, 67.0, 69.0, 71.0, 74.0, 63.0, 76.0, 76.0, 71.0, 76.0, 77.0, 73.0, 71.0, 78.0, 78.0, 75.0, 75.0, 72.0, 77.0, 72.0, 72.0, 71.0, 72.0, 74.0, 66.0, 61.0, 58.0, 60.0, 71.0, 65.0, 72.0, 70.0, 68.0, 67.0, 71.0, 65.0, 64.0, 65.0, 69.0, 70.0, 70.0, 68.0, 69.0, 71.0, 70.0, 71.0, 76.0, 71.0, 72.0, 73.0, 77.0, 67.0, 69.0, 72.0, 74.0, 71.0, 70.0, 68.0, 70.0, 66.0, 72.0, 70.0, 70.0, 70.0, 70.0, 73.0, 71.0, 69.0, 73.0, 72.0, 71.0, 69.0, 70.0, 69.0, 70.0, 75.0, 71.0, 70.0, 69.0, 71.0, 65.0, 67.0, 72.0, 67.0, 76.0, 67.0, 72.0, 69.0, 66.0, 75.0, 74.0, 72.0, 72.0, 72.0, 68.0, 74.0, 73.0, 73.0, 72.0, 70.0, 70.0, 71.0, 70.0, 72.0, 65.0, 62.0, 73.0, 71.0, 70.0, 62.0, 69.0, 69.0, 66.0, 72.0, 73.0, 70.0, 66.0, 64.0, 65.0, 73.0, 74.0, 67.0, 73.0, 70.0, 67.0, 71.0, 78.0, 69.0, 63.0, 64.0, 66.0, 69.0, 69.0, 71.0, 72.0, 69.0, 70.0, 73.0, 68.0, 69.0, 73.0, 73.0, 70.0, 65.0, 70.0, 68.0, 68.0, 66.0, 68.0, 65.0, 62.0, 62.0, 65.0, 61.0, 70.0, 68.0, 67.0, 68.0, 71.0, 69.0, 71.0, 71.0, 71.0, 72.0, 72.0, 68.0, 69.0, 66.0, 60.0, 63.0, 68.0, 64.0, 63.0, 63.0, 59.0, 73.0, 74.0, 75.0, 75.0, 70.0, 72.0, 69.0, 68.0, 74.0, 72.0, 75.0, 79.0, 69.0, 67.0, 73.0, 74.0, 75.0, 72.0, 76.0, 74.0, 75.0, 74.0, 74.0, 76.0, 74.0, 75.0, 75.0, 73.0, 76.0, 74.0, 73.0, 74.0, 70.0, 72.0, 70.0, 67.0, 67.0, 69.0, 70.0, 68.0, 69.0, 69.0, 66.0, 65.0, 68.0, 62.0, 75.0, 70.0, 69.0, 76.0, 76.0, 74.0, 73.0, 71.0, 74.0, 74.0, 72.0, 71.0, 72.0, 74.0, 69.0, 67.0, 70.0, 74.0, 74.0, 75.0, 69.0, 65.0, 66.0, 68.0, 77.0, 65.0, 72.0, 65.0, 66.0, 74.0, 66.0, 63.0, 63.0, 69.0, 69.0, 73.0, 72.0, 68.0, 67.0, 69.0, 74.0, 72.0, 76.0, 70.0, 73.0, 70.0, 76.0, 66.0, 69.0, 69.0, 70.0, 71.0, 73.0, 65.0, 71.0, 65.0, 75.0, 72.0, 74.0, 67.0, 65.0, 68.0, 66.0, 73.0, 74.0, 76.0, 72.0, 69.0, 71.0, 70.0, 70.0, 73.0, 71.0, 76.0, 72.0, 77.0, 70.0, 65.0, 72.0, 75.0, 68.0, 72.0, 64.0, 75.0, 69.0, 80.0, 73.0, 73.0, 73.0, 72.0, 73.0, 75.0, 76.0, 74.0, 72.0, 72.0, 70.0, 70.0, 71.0, 61.0, 65.0, 74.0, 71.0, 63.0, 64.0, 66.0, 68.0, 66.0, 70.0, 68.0, 68.0, 66.0, 75.0, 67.0, 70.0, 72.0, 69.0, 72.0, 69.0, 65.0, 71.0, 73.0, 69.0, 69.0, 63.0, 63.0, 71.0, 79.0, 67.0, 67.0, 64.0, 63.0, 68.0, 77.0, 79.0, 74.0, 68.0, 64.0, 70.0, 62.0, 68.0, 67.0, 70.0, 66.0, 64.0, 62.0, 64.0, 63.0, 69.0, 64.0, 70.0, 72.0, 72.0, 64.0, 71.0, 68.0, 81.0, 78.0, 69.0, 72.0, 70.0, 62.0, 76.0, 72.0, 76.0, 57.0, 64.0, 57.0, 71.0, 70.0, 67.0, 77.0, 69.0, 61.0, 62.0, 63.0, 73.0, 64.0, 67.0, 69.0, 80.0, 71.0, 73.0, 65.0, 68.0, 68.0, 69.0, 72.0, 69.0, 69.0, 67.0, 69.0, 73.0, 71.0, 71.0, 70.0, 71.0, 70.0, 75.0, 71.0, 73.0, 71.0, 71.0, 68.0, 67.0, 70.0, 67.0, 69.0, 71.0, 69.0, 69.0, 68.0, 69.0, 69.0, 67.0, 69.0, 68.0, 70.0, 68.0, 69.0, 71.0, 65.0, 69.0, 69.0, 69.0, 69.0, 70.0, 73.0, 67.0, 74.0, 77.0, 74.0, 73.0, 71.0, 73.0, 68.0, 69.0, 71.0, 72.0, 72.0, 67.0, 67.0, 69.0, 66.0, 66.0, 69.0, 66.0, 68.0, 65.0, 68.0, 67.0, 71.0, 65.0, 71.0, 69.0, 69.0, 62.0, 62.0, 67.0, 65.0, 68.0, 67.0, 75.0, 68.0, 68.0, 70.0, 83.0, 68.0, 70.0, 70.0, 68.0, 76.0, 72.0, 68.0, 64.0, 72.0, 72.0, 68.0, 70.0, 69.0, 68.0, 70.0, 67.0, 70.0, 70.0, 71.0, 70.0, 69.0, 71.0, 68.0, 70.0, 67.0, 70.0, 73.0, 70.0, 66.0, 70.0, 72.0, 71.0, 68.0, 71.0, 67.0, 65.0, 66.0, 70.0, 69.0, 70.0, 72.0, 67.0, 68.0, 64.0, 66.0, 65.0, 62.0, 68.0, 67.0, 73.0, 70.0, 71.0, 71.0, 70.0, 71.0, 69.0, 70.0, 73.0, 70.0, 72.0, 71.0, 69.0, 74.0, 73.0, 69.0, 71.0, 68.0, 72.0, 71.0, 70.0, 72.0, 71.0, 69.0, 71.0, 67.0, 71.0, 69.0, 71.0, 71.0, 67.0, 76.0, 67.0, 67.0, 68.0, 71.0, 68.0, 68.0, 69.0, 65.0, 70.0, 69.0, 64.0, 60.0, 67.0, 72.0, 73.0, 70.0, 68.0, 69.0, 69.0, 69.0, 71.0, 71.0, 71.0, 69.0, 65.0, 65.0]\n"
     ]
    }
   ],
   "source": [
    "# 7. Convert the December temperatures to a list.\n",
    "dec_temps_list = [temp.tobs for temp in dec_temps]\n",
    "print(dec_temps_list)"
   ]
  },
  {
   "cell_type": "code",
   "execution_count": 21,
   "metadata": {},
   "outputs": [],
   "source": [
    "# 8. Create a DataFrame from the list of temperatures for the month of December. \n",
    "dec_temps_df = pd.DataFrame(dec_temps_list, columns=['temps'])"
   ]
  },
  {
   "cell_type": "code",
   "execution_count": 22,
   "metadata": {},
   "outputs": [
    {
     "data": {
      "text/html": [
       "<div>\n",
       "<style scoped>\n",
       "    .dataframe tbody tr th:only-of-type {\n",
       "        vertical-align: middle;\n",
       "    }\n",
       "\n",
       "    .dataframe tbody tr th {\n",
       "        vertical-align: top;\n",
       "    }\n",
       "\n",
       "    .dataframe thead th {\n",
       "        text-align: right;\n",
       "    }\n",
       "</style>\n",
       "<table border=\"1\" class=\"dataframe\">\n",
       "  <thead>\n",
       "    <tr style=\"text-align: right;\">\n",
       "      <th></th>\n",
       "      <th>temps</th>\n",
       "    </tr>\n",
       "  </thead>\n",
       "  <tbody>\n",
       "    <tr>\n",
       "      <th>count</th>\n",
       "      <td>1517.000000</td>\n",
       "    </tr>\n",
       "    <tr>\n",
       "      <th>mean</th>\n",
       "      <td>71.041529</td>\n",
       "    </tr>\n",
       "    <tr>\n",
       "      <th>std</th>\n",
       "      <td>3.745920</td>\n",
       "    </tr>\n",
       "    <tr>\n",
       "      <th>min</th>\n",
       "      <td>56.000000</td>\n",
       "    </tr>\n",
       "    <tr>\n",
       "      <th>25%</th>\n",
       "      <td>69.000000</td>\n",
       "    </tr>\n",
       "    <tr>\n",
       "      <th>50%</th>\n",
       "      <td>71.000000</td>\n",
       "    </tr>\n",
       "    <tr>\n",
       "      <th>75%</th>\n",
       "      <td>74.000000</td>\n",
       "    </tr>\n",
       "    <tr>\n",
       "      <th>max</th>\n",
       "      <td>83.000000</td>\n",
       "    </tr>\n",
       "  </tbody>\n",
       "</table>\n",
       "</div>"
      ],
      "text/plain": [
       "             temps\n",
       "count  1517.000000\n",
       "mean     71.041529\n",
       "std       3.745920\n",
       "min      56.000000\n",
       "25%      69.000000\n",
       "50%      71.000000\n",
       "75%      74.000000\n",
       "max      83.000000"
      ]
     },
     "execution_count": 22,
     "metadata": {},
     "output_type": "execute_result"
    }
   ],
   "source": [
    "# 9. Calculate and print out the summary statistics for the Decemeber temperature DataFrame.\n",
    "dec_temps_df.describe()"
   ]
  },
  {
   "cell_type": "code",
   "execution_count": 24,
   "metadata": {},
   "outputs": [
    {
     "data": {
      "image/png": "[encoded data removed]",
      "text/plain": [
       "<Figure size 432x288 with 1 Axes>"
      ]
     },
     "metadata": {},
     "output_type": "display_data"
    }
   ],
   "source": [
    "dec_temps_df.plot.hist()\n",
    "plt.title(\"Frequency of December Temps\")\n",
    "plt.xlabel(\"Temperature\")\n",
    "plt.legend\n",
    "plt.savefig(\"Resources/Dec_Temp_Frequency.png\")"
   ]
  }
 ],
 "metadata": {
  "kernelspec": {
   "display_name": "PythonData",
   "language": "python",
   "name": "pythondata"
  },
  "language_info": {
   "codemirror_mode": {
    "name": "ipython",
    "version": 3
   },
   "file_extension": ".py",
   "mimetype": "text/x-python",
   "name": "python",
   "nbconvert_exporter": "python",
   "pygments_lexer": "ipython3",
   "version": "3.7.11"
  }
 },
 "nbformat": 4,
 "nbformat_minor": 2
}
